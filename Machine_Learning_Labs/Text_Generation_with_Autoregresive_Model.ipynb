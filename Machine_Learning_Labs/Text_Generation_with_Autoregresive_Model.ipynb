{
 "cells": [
  {
   "metadata": {},
   "cell_type": "markdown",
   "source": [
    "### Summary: Generating Text with an Autoregressive Model\n",
    "\n",
    "This notebook explores building an autoregressive text generation model, also known as a **Markov Model**, to generate text in the style of a given book. The lab begins by preprocessing text data from **Project Gutenberg**, using works like _Alice in Wonderland_ and _The Metamorphosis_, and sets up an autoregressive model where the probability of the next word is based on the previous $k$ words (k-gram). The goal is to balance grammatical structure while avoiding excessive copying from the source material.\n",
    "\n",
    "Key components of the lab include:\n",
    "- **Data Preprocessing**: Downloading and cleaning text from multiple books, preparing it for modeling by tokenizing and structuring sequences based on $k$-grams.\n",
    "- **Model Implementation**: Constructing and training the autoregressive model to predict the next word based on the $k$ most recent words, demonstrating the impact of $k$ on the quality of generated text.\n",
    "- **Quality vs. Plagiarism Trade-off**: Analyzing how smaller values of $k$ generate less coherent text, while larger values result in plagiarism as the model copies large text chunks from the original work. Experiments include measuring the **Longest Common Substring (LCS)** between generated and original text across different $k$ values.\n",
    "- **Visualization and Evaluation**: Plotting LCS lengths to show how text similarity scales with $k$ and exploring the exponential growth in copying as $k$ increases. \n",
    "- **Model Improvement Challenge**: A bonus task invites modifications to the $k$-gram model, encouraging creativity to balance coherence and originality.\n",
    "\n",
    "This hands-on lab provides a foundational understanding of probabilistic models for text generation and highlights the challenges and trade-offs involved in building language models.\n"
   ],
   "id": "43eff15ae7670bee"
  },
  {
   "metadata": {},
   "cell_type": "markdown",
   "source": "Import libraries",
   "id": "2beff647730d645b"
  },
  {
   "cell_type": "code",
   "id": "initial_id",
   "metadata": {
    "collapsed": true,
    "ExecuteTime": {
     "end_time": "2024-11-09T16:00:24.979116Z",
     "start_time": "2024-11-09T16:00:24.976422Z"
    }
   },
   "source": [
    "import random\n",
    "import numpy as np\n",
    "import matplotlib.pyplot as plt\n",
    "plt.style.use('classic')"
   ],
   "outputs": [],
   "execution_count": 16
  },
  {
   "metadata": {},
   "cell_type": "markdown",
   "source": "Preprocessing the text data",
   "id": "3e7d6bc4a094bdda"
  },
  {
   "metadata": {
    "ExecuteTime": {
     "end_time": "2024-11-09T16:00:24.997837Z",
     "start_time": "2024-11-09T16:00:24.993446Z"
    }
   },
   "cell_type": "code",
   "source": [
    "#Code adapted from https://pypi.org/project/Gutenberg/ to help download from\n",
    "#Project Gutenberg (www.gutenberg.org/) automatically. \n",
    "def _format_download_urls(etextno):\n",
    "    \"\"\"\n",
    "    Returns the possible urls location on the Project Gutenberg servers for a\n",
    "    given text. Mostly ripped from https://pypi.org/project/Gutenberg/.\n",
    "    \"\"\"\n",
    "    uri_root = r'http://www.gutenberg.lib.md.us'\n",
    "\n",
    "    if 0 < etextno < 10:\n",
    "        oldstyle_files = (\n",
    "            'when11',\n",
    "            'bill11',\n",
    "            'jfk11',\n",
    "            'getty11',\n",
    "            'const11',\n",
    "            'liber11',\n",
    "            'mayfl11',\n",
    "            'linc211',\n",
    "            'linc111',\n",
    "        )\n",
    "        etextno = int(etextno)\n",
    "        return '{root}/etext90/{name}.txt'.format(\n",
    "            root=uri_root,\n",
    "            name=oldstyle_files[etextno - 1])\n",
    "\n",
    "    else:\n",
    "        etextno = str(etextno)\n",
    "        extensions = ('.txt', '-8.txt', '-0.txt')\n",
    "        urls = []\n",
    "        for extension in extensions:\n",
    "            uri = '{root}/{path}/{etextno}/{etextno}{extension}'.format(\n",
    "                root=uri_root,\n",
    "                path='/'.join(etextno[:len(etextno) - 1]),\n",
    "                etextno=etextno,\n",
    "                extension=extension)\n",
    "            urls.append(uri)\n",
    "        return urls\n",
    "    \n",
    "def download_from_book_id(bookid, bookname):\n",
    "\n",
    "    book_dst = f'{bookname}.txt'\n",
    "    \n",
    "    import os\n",
    "    from six.moves import urllib\n",
    "    \n",
    "    if os.path.isfile(book_dst):\n",
    "      print('File %s is already downloaded' % book_dst)\n",
    "    else:\n",
    "      possible_urls = _format_download_urls(bookid)\n",
    "      print(possible_urls)\n",
    "      for url in possible_urls:\n",
    "        print(f'trying {url}...')\n",
    "        try:\n",
    "          urllib.request.urlretrieve(url, book_dst)\n",
    "          print(f'Downloaded {bookname}.txt, with book id {bookid}.')\n",
    "          return\n",
    "        except urllib.error.HTTPError:\n",
    "          None\n",
    "      raise NameError(\"Couldn't find that book on Gutenberg\")"
   ],
   "id": "71098982b85d6041",
   "outputs": [],
   "execution_count": 17
  },
  {
   "metadata": {
    "ExecuteTime": {
     "end_time": "2024-11-09T16:00:25.007740Z",
     "start_time": "2024-11-09T16:00:25.005585Z"
    }
   },
   "cell_type": "code",
   "source": [
    "#downloading the books we'll use for the lab\n",
    "download_from_book_id(100, \"Shakespeare\")\n",
    "download_from_book_id(5200, \"Metamorphosis\")\n",
    "download_from_book_id(11, \"Wonderland\")\n",
    "download_from_book_id(1184, \"MonteCristo\")"
   ],
   "id": "6f1d888f05680971",
   "outputs": [
    {
     "name": "stdout",
     "output_type": "stream",
     "text": [
      "File Shakespeare.txt is already downloaded\n",
      "File Metamorphosis.txt is already downloaded\n",
      "File Wonderland.txt is already downloaded\n",
      "File MonteCristo.txt is already downloaded\n"
     ]
    }
   ],
   "execution_count": 18
  },
  {
   "metadata": {
    "ExecuteTime": {
     "end_time": "2024-11-09T16:00:25.028844Z",
     "start_time": "2024-11-09T16:00:25.026284Z"
    }
   },
   "cell_type": "code",
   "source": [
    "# inspecting one of the books to get a sense of the content of the files\n",
    "file_handle = open(\"Wonderland.txt\", encoding=\"utf8\")  # It's very important to mention utf8 encoding\n",
    "wonderland_book_text = file_handle.read()  # Copies the book as a string in memory\n",
    "file_handle.close()\n",
    "\n",
    "print(wonderland_book_text[0:1000])"
   ],
   "id": "fbf98db77be90b97",
   "outputs": [
    {
     "name": "stdout",
     "output_type": "stream",
     "text": [
      "*** START OF THE PROJECT GUTENBERG EBOOK 11 ***\n",
      "[Illustration]\n",
      "\n",
      "\n",
      "\n",
      "\n",
      "Alice’s Adventures in Wonderland\n",
      "\n",
      "by Lewis Carroll\n",
      "\n",
      "THE MILLENNIUM FULCRUM EDITION 3.0\n",
      "\n",
      "Contents\n",
      "\n",
      " CHAPTER I.     Down the Rabbit-Hole\n",
      " CHAPTER II.    The Pool of Tears\n",
      " CHAPTER III.   A Caucus-Race and a Long Tale\n",
      " CHAPTER IV.    The Rabbit Sends in a Little Bill\n",
      " CHAPTER V.     Advice from a Caterpillar\n",
      " CHAPTER VI.    Pig and Pepper\n",
      " CHAPTER VII.   A Mad Tea-Party\n",
      " CHAPTER VIII.  The Queen’s Croquet-Ground\n",
      " CHAPTER IX.    The Mock Turtle’s Story\n",
      " CHAPTER X.     The Lobster Quadrille\n",
      " CHAPTER XI.    Who Stole the Tarts?\n",
      " CHAPTER XII.   Alice’s Evidence\n",
      "\n",
      "\n",
      "\n",
      "\n",
      "CHAPTER I.\n",
      "Down the Rabbit-Hole\n",
      "\n",
      "\n",
      "Alice was beginning to get very tired of sitting by her sister on the\n",
      "bank, and of having nothing to do: once or twice she had peeped into\n",
      "the book her sister was reading, but it had no pictures or\n",
      "conversations in it, “and what is the use of a book,” thought Alice\n",
      "“without pictures or conversations?”\n",
      "\n",
      "So she was considering in her \n"
     ]
    }
   ],
   "execution_count": 19
  },
  {
   "metadata": {},
   "cell_type": "markdown",
   "source": "writing a function to convert the files into strings of one word length, only taking the actual book content and dropping the metadata at the beginning and end of the files",
   "id": "3b2d45f0ac7c0479"
  },
  {
   "metadata": {
    "ExecuteTime": {
     "end_time": "2024-11-09T16:00:25.041964Z",
     "start_time": "2024-11-09T16:00:25.039760Z"
    }
   },
   "cell_type": "code",
   "source": [
    "def word_sequence_from_file(filepath):\n",
    "\n",
    "    # Open the file\n",
    "    file_handle = open(filepath, encoding=\"utf8\")\n",
    "    raw_book_text = file_handle.read()  # Copies the book as a string in memory\n",
    "    file_handle.close()\n",
    "\n",
    "    start = '*** START OF THE PROJECT GUTENBERG EBOOK'\n",
    "    end = '*** END OF THE PROJECT GUTENBERG EBOOK'\n",
    "    \n",
    "    startInd = raw_book_text.find(start) + len(start)\n",
    "    endInd = raw_book_text.find(end) + len(end)\n",
    "    \n",
    "    book_text = raw_book_text[startInd:endInd+1]\n",
    "    word_sequence = book_text.split()\n",
    "\n",
    "    return word_sequence"
   ],
   "id": "a543853da0bfa2e1",
   "outputs": [],
   "execution_count": 20
  },
  {
   "metadata": {
    "ExecuteTime": {
     "end_time": "2024-11-09T16:00:25.103500Z",
     "start_time": "2024-11-09T16:00:25.054489Z"
    }
   },
   "cell_type": "code",
   "source": [
    "# converting the books into word sequence lists\n",
    "shakespeare = word_sequence_from_file(\"Shakespeare.txt\")\n",
    "metamorphosis = word_sequence_from_file(\"Metamorphosis.txt\")\n",
    "wonderland = word_sequence_from_file(\"Wonderland.txt\")\n",
    "montecristo = word_sequence_from_file(\"MonteCristo.txt\")"
   ],
   "id": "47a1d4c89cf2f630",
   "outputs": [],
   "execution_count": 21
  },
  {
   "metadata": {
    "ExecuteTime": {
     "end_time": "2024-11-09T16:00:25.111610Z",
     "start_time": "2024-11-09T16:00:25.108711Z"
    }
   },
   "cell_type": "code",
   "source": [
    "#printing the first 100 words of the wonderland book to test the function\n",
    "display(\" \".join(wonderland[1:100]))"
   ],
   "id": "d32c0ac043a26c2c",
   "outputs": [
    {
     "data": {
      "text/plain": [
       "'*** [Illustration] Alice’s Adventures in Wonderland by Lewis Carroll THE MILLENNIUM FULCRUM EDITION 3.0 Contents CHAPTER I. Down the Rabbit-Hole CHAPTER II. The Pool of Tears CHAPTER III. A Caucus-Race and a Long Tale CHAPTER IV. The Rabbit Sends in a Little Bill CHAPTER V. Advice from a Caterpillar CHAPTER VI. Pig and Pepper CHAPTER VII. A Mad Tea-Party CHAPTER VIII. The Queen’s Croquet-Ground CHAPTER IX. The Mock Turtle’s Story CHAPTER X. The Lobster Quadrille CHAPTER XI. Who Stole the Tarts? CHAPTER XII. Alice’s Evidence CHAPTER I. Down the Rabbit-Hole Alice was beginning to get very tired of sitting'"
      ]
     },
     "metadata": {},
     "output_type": "display_data"
    }
   ],
   "execution_count": 22
  },
  {
   "metadata": {},
   "cell_type": "markdown",
   "source": "To build the model, we need to create an autoregressive model that uses a probabilistic approach to predict the next word in a sequence based on the previous $k$ words. The model will be trained on the text data from one of the books we downloaded. We will use a dictionary to store the probabilities of each word given the previous $k$ words. The model will generate text by predicting the next word based on the last $k$ words and then updating the sequence to include the new word. ",
   "id": "134e5c34ef5aa9d5"
  },
  {
   "metadata": {
    "ExecuteTime": {
     "end_time": "2024-11-09T16:00:25.181889Z",
     "start_time": "2024-11-09T16:00:25.179673Z"
    }
   },
   "cell_type": "code",
   "source": [
    "# create a dictionary that stores the probabilities of each word given the previous k words\n",
    "def make_freq_dict(k, word_sequence):\n",
    "\n",
    "    # Make empty dict to count frequencies\n",
    "    freq_dict = dict()\n",
    "\n",
    "    #loop through all k-grams\n",
    "    for i in range(len(word_sequence) - k -1):\n",
    "        Kgram = \" \".join(word_sequence[i:i+k])\n",
    "        Next = word_sequence[i+k]\n",
    "        \n",
    "        if Kgram in freq_dict:\n",
    "            if Next in freq_dict[Kgram]:\n",
    "                freq_dict[Kgram][Next] += 1\n",
    "            else:\n",
    "                freq_dict[Kgram][Next] = 1\n",
    "        else:\n",
    "            freq_dict[Kgram] = {Next: 1}\n",
    "\n",
    "    return freq_dict"
   ],
   "id": "39c5353faaf70768",
   "outputs": [],
   "execution_count": 23
  },
  {
   "metadata": {
    "ExecuteTime": {
     "end_time": "2024-11-09T16:00:25.199501Z",
     "start_time": "2024-11-09T16:00:25.197117Z"
    }
   },
   "cell_type": "code",
   "source": [
    "#function to predict the next word given a frequency dictionary and a k-gram of words\n",
    "def predict_next_word(this_kgram, freq_dict):\n",
    "    \n",
    "    if this_kgram not in freq_dict:\n",
    "        return None\n",
    "    else:\n",
    "        total = 0\n",
    "        nextWordOptions = []\n",
    "        prob = []\n",
    "        #find probability of each possible next word  \n",
    "        for nextWord, count in freq_dict[this_kgram].items():\n",
    "            total += count\n",
    "        for nextWord,count in freq_dict[this_kgram].items():\n",
    "            nextWordOptions.append(nextWord)\n",
    "            prob.append(count/total)\n",
    "        return random.choices(nextWordOptions, weights = prob, k = 1)[0]"
   ],
   "id": "19f3b64f864b742c",
   "outputs": [],
   "execution_count": 24
  },
  {
   "metadata": {
    "ExecuteTime": {
     "end_time": "2024-11-09T16:00:25.210839Z",
     "start_time": "2024-11-09T16:00:25.208617Z"
    }
   },
   "cell_type": "code",
   "source": [
    "# function to predict a full paragraph of text given a frequency dictionary and an initial k-gram of words selected from the text\n",
    "\n",
    "def predict_paragraph(start_kgram, k, freq_dict, gen_length=300):\n",
    "\n",
    "    gen_para = list(start_kgram)\n",
    "    currKgram = \" \".join(start_kgram)\n",
    "    for i in range(gen_length-k):\n",
    "        nextWord = predict_next_word(currKgram, freq_dict)\n",
    "        \n",
    "        #make sure there is a next word to append to the paragraph\n",
    "        if nextWord is None:\n",
    "            break\n",
    "        gen_para.append(nextWord)\n",
    "        currKgram = \" \".join(gen_para[-k:])\n",
    "\n",
    "    return gen_para"
   ],
   "id": "705a2990a097f179",
   "outputs": [],
   "execution_count": 25
  },
  {
   "metadata": {
    "ExecuteTime": {
     "end_time": "2024-11-09T16:00:25.238487Z",
     "start_time": "2024-11-09T16:00:25.217286Z"
    }
   },
   "cell_type": "code",
   "source": [
    "# test the code generating a paragraph of text from The Metamorphosis\n",
    "\n",
    "# Pick k and make a frequency dictionary from Metamorphosis.\n",
    "k_test = 3\n",
    "\n",
    "freq_dict_test = make_freq_dict(k_test, metamorphosis)\n",
    "\n",
    "# pick a random starting k-gram from the freq-dict.\n",
    "start_test = random.choice(list(freq_dict_test.keys())).split()\n",
    "\n",
    "# Alternatively, pick the start of the book as the first k-gram\n",
    "# start_test = metamorphosis[0:k_test]\n",
    "\n",
    "# Generate a paragraph, and print it.\n",
    "gen_paragraph = predict_paragraph(start_test, k_test, freq_dict_test)\n",
    "\" \".join(gen_paragraph)"
   ],
   "id": "a630b281cd1a1190",
   "outputs": [
    {
     "data": {
      "text/plain": [
       "'as he sat reading a number of different newspapers. On the wall exactly opposite there was photograph of Gregor when he was in the dark again, they would sit in the next room had her arms round the chest, pushing and pulling at it from side to side as he peered out at the others. Meanwhile the day had become much calmer. So they couldn’t understand his words any more, although they seemed clear enough to him, clearer than before—perhaps his ears had become used to the sight of Gregor, he might have made her ill, so Gregor hurried backwards to the far end of the couch. In his startlement, though, he was not lifted up on his little legs, nor did he do anything to make them look away. “Grete, come with us in the kitchen and just reads the paper or studies train timetables. His idea of relaxation is working with his fretsaw. He’s made a little frame, for instance, it only took him two or three evenings, you’ll be amazed how nice it is; it’s hanging up in his room; you’ll see it as especially provoking if he fled onto the wall or ceiling. Whatever he did, Gregor had to admit that the women going to and fro, their little calls to each other, the scraping of the furniture on the floor, knocking into each other as if they wanted to test the food before eating it, and the gentleman in the middle, who seemed to count as an authority for the other two, did indeed cut off a piece of meat while it was still in its dish, clearly wishing to establish whether it was sufficiently cooked or whether it should be sent back to the kitchen. It was to his satisfaction, and Gregor’s mother and'"
      ]
     },
     "execution_count": 26,
     "metadata": {},
     "output_type": "execute_result"
    }
   ],
   "execution_count": 26
  },
  {
   "metadata": {},
   "cell_type": "markdown",
   "source": "The below section is ***NOT MY CODE***, it was given for the assignment to find the length of the longest common substring (LCS) of a generated paragraph and the book used to generate it. This allows us to eplore the tradeoffs between model complexity and output (more accurate and \"real-seeming\" text generation vs. more plagiarism).",
   "id": "5147ca1699295095"
  },
  {
   "metadata": {
    "ExecuteTime": {
     "end_time": "2024-11-09T16:00:25.253560Z",
     "start_time": "2024-11-09T16:00:25.247490Z"
    }
   },
   "cell_type": "code",
   "source": [
    "# GIVEN CODE to find longest common substring\n",
    "from IPython.display import display, Markdown #\n",
    "\n",
    "# Colors to use in the Markdown Text\n",
    "md_colors = [\"#009292\", \"#FF6DB6\", \"#490092\", \"#006DDB\", \"#B66DFF\", \"#920000\", \"#DB6D00\"]\n",
    "\n",
    "def list_of_seqs_to_markdown(list_of_sequences):\n",
    "    \"\"\"\n",
    "    Takes in a list-of-list-of-strings, and colors each sublist with a single\n",
    "    color cycling through the list `md_colors` to pick those colors\n",
    "\n",
    "    :param      list_of_sequences:  List of list of words\n",
    "    :type       list_of_sequences:  List of list of words\n",
    "    \"\"\"\n",
    "\n",
    "    # The output string\n",
    "    display_string = \"\"\n",
    "    for i, word_sequence in enumerate(list_of_sequences):\n",
    "        display_string = display_string + f'<font color={md_colors[i % len(md_colors)]}>{\" \".join(word_sequence)}</font> '\n",
    "\n",
    "    # Draw that string with Markdown\n",
    "    display(Markdown(display_string))\n",
    "\n",
    "\n",
    "class LcsFinder:\n",
    "    \"\"\"\n",
    "    Internally, this class takes `word_sequence` and\n",
    "    builds a hash table from any k-gram that appears in\n",
    "    `word_sequence` to the list of all indices where that\n",
    "    k-gram appears in `word_sequence`. This makes finding\n",
    "    the LCS pretty fast.\n",
    "    It also stores a set of all less-than-k grams that appear\n",
    "    in the text, but just as a set and not as a hash table.\n",
    "    \"\"\"\n",
    "\n",
    "    def __init__(self, word_sequence, k=3):\n",
    "        \"\"\"\n",
    "        By default, this hash table uses 3-grams, this seems to work well. Feel\n",
    "        free to pass in a different k-value, though keep in mind this is a\n",
    "        heuristic speedup, and is unrelated to the k-gram from the language\n",
    "        model.\n",
    "\n",
    "        :param      word_sequence:  A book\n",
    "        :type       word_sequence:  List of strings\n",
    "        :param      k:              Heuristic k-gram size for efficient lookup\n",
    "        :type       k:              int\n",
    "        \"\"\"\n",
    "        self.k = k\n",
    "        self.word_sequence = word_sequence\n",
    "        self.index_hash = dict()\n",
    "        self.short_gram_set = set()\n",
    "\n",
    "        for i in range(len(word_sequence)-k):\n",
    "\n",
    "            k_gram = \" \".join(word_sequence[i:i+k])  # Build this k-gram\n",
    "            if k_gram not in self.index_hash:\n",
    "                self.index_hash[k_gram] = []  # Add it to the hash table if it ain't there\n",
    "            self.index_hash[k_gram].append(i)  # And add the index to the list\n",
    "\n",
    "            # Update the set of short grams with all possible grams starting at i, and with length < k.\n",
    "            self.short_gram_set.update({\" \".join(word_sequence[i:i+j]) for j in range(1,k)})\n",
    "\n",
    "    def length_of_lcs_from_start(self, small_sequence, start_idx):\n",
    "        \"\"\"\n",
    "        Look for the longest common substring of word_sequence and\n",
    "        small_sequence, subject to the substring starting at\n",
    "        `small_sequence[start_idx]`. Returns the length of this LCS, measured in\n",
    "        words.\n",
    "\n",
    "        :param      small_sequence:  A small word sequence\n",
    "        :type       small_sequence:  List of strings\n",
    "        :param      start_idx:       The index where the LCS has to start at\n",
    "        :type       start_idx:       int\n",
    "\n",
    "        :returns:   Length of the LCS, measure in words\n",
    "        :rtype:     int\n",
    "        \"\"\"\n",
    "\n",
    "        # Build the k-gram rooted at start_idx\n",
    "        start_k_gram = \" \".join(small_sequence[start_idx:start_idx+self.k])\n",
    "\n",
    "        # If the k-gram is in the big hash table,\n",
    "        if start_k_gram in self.index_hash:\n",
    "\n",
    "            longest = 0\n",
    "\n",
    "            # Scan over all indices in the list in the hash table\n",
    "            for word_seq_index in self.index_hash[start_k_gram]:\n",
    "\n",
    "                # While loop, starting at size k, expanding the length of the LCS until the sequences stop matching\n",
    "                i = self.k\n",
    "                while (word_seq_index + i < len(self.word_sequence) and # in-bounds on word_sequence\n",
    "                       start_idx + i < len(small_sequence) and # in-bounds on small_sequence\n",
    "                       self.word_sequence[word_seq_index + i] == small_sequence[start_idx + i]): # the words are the same\n",
    "                    i = i+1\n",
    "\n",
    "                # The length of the longest LCS seen so far is kept\n",
    "                longest = max(longest, i)\n",
    "            return longest\n",
    "        else:\n",
    "            # If the k-gram ain't in the big hash table, check if it's sub-grams are in the stored set\n",
    "            for i in range(self.k-1,0,-1): # In order from k-1 to 1\n",
    "                if \" \".join(small_sequence[start_idx:start_idx+i]) in self.short_gram_set:\n",
    "                    return i\n",
    "            return 0\n",
    "\n",
    "    def lcs_length(self, small_sequence):\n",
    "        \"\"\"\n",
    "        Given `small_sequence`, a list of strings, this returns the length of\n",
    "        the longest common substring between `small_sequence` and\n",
    "        `word_sequence`\n",
    "\n",
    "        :param      small_sequence:  A small sequence of words\n",
    "        :type       small_sequence:  List of strings\n",
    "\n",
    "        :returns:   Length of the LCS, measured in words\n",
    "        :rtype:     int\n",
    "        \"\"\"\n",
    "        longest = 0\n",
    "\n",
    "        # Just iterative over all starting words in `small_sequence` and keep the biggest number\n",
    "        for i in range(len(small_sequence)):\n",
    "            sequence_len = self.length_of_lcs_from_start(small_sequence, i)\n",
    "            longest = max(longest, sequence_len)\n",
    "\n",
    "        return longest\n",
    "\n",
    "    # Given `small_sequence`, a list of strings, this prints highlighted markdown that shows where one substring of `word_sequence` ends and the next one starts. If a word doesn't appear in `word_sequence`, we just treat it like a substring of length 1.\n",
    "\n",
    "    def greedy_lcs_markdown(self, small_sequence):\n",
    "        \"\"\"\n",
    "        Given `small_sequence`, a list of strings, this prints highlighted\n",
    "        markdown that shows where one substring of `word_sequence` ends and the\n",
    "        next one starts. If a word doesn't appear in `word_sequence`, we just\n",
    "        treat it like a substring of length 1.\n",
    "\n",
    "        :param      small_sequence:  A small sequence of words\n",
    "        :type       small_sequence:  List of strings\n",
    "\n",
    "        :returns:   Markdown display text (renders by default on Jupyter)\n",
    "        :rtype:     Markdown display text\n",
    "        \"\"\"\n",
    "        list_of_sequences = []  # The output list\n",
    "\n",
    "        i = 0\n",
    "        while i < len(small_sequence):\n",
    "            # iteratate over small_sequence, finding the lcs rooted at index i,\n",
    "            # and color that LCS accordingly.\n",
    "            sequence_len = max(self.length_of_lcs_from_start(small_sequence, i), 1)\n",
    "            list_of_sequences.append(small_sequence[i:i+sequence_len])\n",
    "            i = i + sequence_len\n",
    "\n",
    "        return list_of_seqs_to_markdown(list_of_sequences)"
   ],
   "id": "da9c008426e39ecc",
   "outputs": [],
   "execution_count": 27
  },
  {
   "metadata": {},
   "cell_type": "markdown",
   "source": "Now we can use the `LcsFinder` class to find the length of the longest common substring between a generated paragraph and the book used to generate it. ",
   "id": "e55e8a0581c2b942"
  },
  {
   "metadata": {
    "ExecuteTime": {
     "end_time": "2024-11-09T16:00:25.283395Z",
     "start_time": "2024-11-09T16:00:25.262889Z"
    }
   },
   "cell_type": "code",
   "source": [
    "# Build an LcsFinder for Metamorphosis\n",
    "metamorphosis_finder = LcsFinder(metamorphosis)\n",
    "\n",
    "# Use the LcsFinder to find the LCS length in the generated paragraph\n",
    "print(f'LCS length: {metamorphosis_finder.lcs_length(gen_paragraph)} words')\n",
    "\n",
    "# Use the LcsFinder to highlight substrings in the generated text that appear in the original text.\n",
    "metamorphosis_finder.greedy_lcs_markdown(gen_paragraph)"
   ],
   "id": "cedc8348321620e7",
   "outputs": [
    {
     "name": "stdout",
     "output_type": "stream",
     "text": [
      "LCS length: 71 words\n"
     ]
    },
    {
     "data": {
      "text/plain": [
       "<IPython.core.display.Markdown object>"
      ],
      "text/markdown": "<font color=#009292>as he sat reading a number of different newspapers. On the wall exactly opposite there was photograph of Gregor when he was</font> <font color=#FF6DB6>in the dark again, they would sit in the next room</font> <font color=#490092>had her arms round the chest, pushing and pulling at it from side to side</font> <font color=#006DDB>as he peered out at the others. Meanwhile the day had become much</font> <font color=#B66DFF>calmer. So they couldn’t understand his words any more, although they seemed clear enough to him, clearer than before—perhaps his ears had become used to the</font> <font color=#920000>sight of Gregor, he might have made her ill, so Gregor hurried backwards to the far end of the couch. In his startlement, though, he was not</font> <font color=#DB6D00>lifted up on his little legs, nor did he do anything to make them look away. “Grete, come with us in</font> <font color=#009292>the kitchen and just reads the paper or studies train timetables. His idea of relaxation is working with his fretsaw. He’s made a little frame, for instance, it only took him two or three evenings, you’ll be amazed how nice it is; it’s hanging up in his room; you’ll see it as</font> <font color=#FF6DB6>especially provoking if he fled onto the wall or ceiling. Whatever he did, Gregor had to admit that</font> <font color=#490092>the women going to and fro, their little calls to each other, the scraping of the furniture on the floor,</font> <font color=#006DDB>knocking into each other as if they</font> <font color=#B66DFF>wanted to test the food before eating it, and the gentleman in the middle, who seemed to count as an authority for the other two, did indeed cut off a piece of meat while it was still in its dish, clearly wishing to establish whether it was sufficiently cooked or whether it should be sent back to the kitchen. It was to his satisfaction, and Gregor’s mother and</font> "
     },
     "metadata": {},
     "output_type": "display_data"
    }
   ],
   "execution_count": 28
  },
  {
   "metadata": {},
   "cell_type": "markdown",
   "source": [
    "This section explores the trade-off between coherence and originality in text generation using different values of $k$ (previous words in the Markov model). Smaller $k$ values produce incoherent text, while larger $k$ values lead to excessive copying from the original text. \n",
    "\n",
    "To quantify this, the lab generates 100 paragraphs of 300 words for each of five $k$ values and calculates the **Longest Common Substring (LCS)** lengths between the generated paragraphs and the original book. It then analyzes the 25th percentile, median, and 75th percentile of LCS lengths to visualize how $k$ affects this balance.\n"
   ],
   "id": "1fc840c531efc132"
  },
  {
   "metadata": {
    "ExecuteTime": {
     "end_time": "2024-11-09T16:00:25.296015Z",
     "start_time": "2024-11-09T16:00:25.293136Z"
    }
   },
   "cell_type": "code",
   "source": [
    "# Which values of k to generate k-grams for and estimate LCS lengths with\n",
    "ks_to_plot = [1, 2, 3, 4, 5]\n",
    "\n",
    "def gen_lcs_statistics(word_sequence):\n",
    "\n",
    "    n_trials = 100  # number of trials\n",
    "    gen_length_test = 300  # number of words to generate\n",
    "\n",
    "    lcs_lengths = np.zeros((len(ks_to_plot), n_trials))\n",
    "    lcs_finder = LcsFinder(word_sequence)\n",
    "\n",
    "    for k in ks_to_plot:\n",
    "        freqDict = make_freq_dict(k, word_sequence)\n",
    "        for i in range(n_trials):\n",
    "            start = random.choice(list(freqDict.keys())).split()\n",
    "            genPara = predict_paragraph(start, k, freqDict, gen_length_test)\n",
    "            \" \".join(genPara)\n",
    "            lcs = lcs_finder.lcs_length(genPara)\n",
    "            lcs_lengths[k-1,i] = lcs\n",
    "            \n",
    "    lcs_length_bots, lcs_length_medians, lcs_length_tops = np.quantile(lcs_lengths, [0.25, 0.5, 0.75], axis = 1)\n",
    "    \n",
    "     \n",
    "    return {\"top_quartiles\": lcs_length_tops, \"medians\": lcs_length_medians, \"bot_quartiles\": lcs_length_bots}"
   ],
   "id": "2332600c5edaf97c",
   "outputs": [],
   "execution_count": 29
  },
  {
   "metadata": {
    "ExecuteTime": {
     "end_time": "2024-11-09T16:00:35.550200Z",
     "start_time": "2024-11-09T16:00:25.305525Z"
    }
   },
   "cell_type": "code",
   "source": [
    "# test code using Shakespeare text file\n",
    "gen_lcs_statistics(shakespeare)\n"
   ],
   "id": "d65538ea2e71e873",
   "outputs": [
    {
     "data": {
      "text/plain": [
       "{'top_quartiles': array([  5.  ,  15.  ,  59.  , 179.25, 300.  ]),\n",
       " 'medians': array([  4. ,  13. ,  49. , 151.5, 300. ]),\n",
       " 'bot_quartiles': array([  4.  ,  11.  ,  37.75, 117.25, 201.  ])}"
      ]
     },
     "execution_count": 30,
     "metadata": {},
     "output_type": "execute_result"
    }
   ],
   "execution_count": 30
  },
  {
   "metadata": {},
   "cell_type": "markdown",
   "source": "Visualizing the trade-off between coherence and originality in text generation by plotting the average LCS lengths for each $k$ value of 300 generated paragraphs from a given text. The plot shows how the LCS length increases with $k$, indicating a trade-off between coherence and originality in text generation.",
   "id": "92b05e8b621a24a5"
  },
  {
   "metadata": {
    "ExecuteTime": {
     "end_time": "2024-11-09T16:00:35.562538Z",
     "start_time": "2024-11-09T16:00:35.559928Z"
    }
   },
   "cell_type": "code",
   "source": [
    "#define function to plot k vs LCS length\n",
    "def plot_lcs_statistics(word_sequence, book_title, lcs_stats):\n",
    "    \"\"\"\n",
    "    Given a book, it's title, and the LCS statistics generated by\n",
    "    `gen_lcs_statistics`, this renders a plot to visualize the statistics.\n",
    "\n",
    "    :param      word_sequence:  The book\n",
    "    :type       word_sequence:  List of string\n",
    "    :param      book_title:     The book's title\n",
    "    :type       book_title:     String\n",
    "    :param      lcs_stats:      The lcs statistics\n",
    "    :type       lcs_stats:      Dict that maps string to numpy array\n",
    "    \"\"\"\n",
    "\n",
    "    ## TODO: WRITE THIS CODE\n",
    "    ## Use plot() to render the median as one line\n",
    "    ## Use fill_between() to shade the area 25th and 75th quartiles with a low alpha value, like alpha=0.35\n",
    "    plt.plot(ks_to_plot, lcs_stats[\"medians\"], linewidth = 2, color = 'darkblue')\n",
    "    \n",
    "    plt.ylim(0,350)\n",
    "    plt.fill_between(ks_to_plot, lcs_stats[\"top_quartiles\"], lcs_stats[\"bot_quartiles\"], color = 'blue', alpha=0.2)\n",
    "    \n",
    "    plt.xlabel('k')\n",
    "    plt.ylabel('LCS Length in Words')\n",
    "    plt.title(book_title + ': k vs length of LCS')"
   ],
   "id": "c73bf509a8995411",
   "outputs": [],
   "execution_count": 31
  },
  {
   "metadata": {
    "ExecuteTime": {
     "end_time": "2024-11-09T16:00:36.870881Z",
     "start_time": "2024-11-09T16:00:35.571888Z"
    }
   },
   "cell_type": "code",
   "source": [
    "#plot for Wonderland book\n",
    "plot_lcs_statistics(wonderland, \"Alice in Wonderland\", gen_lcs_statistics(wonderland))"
   ],
   "id": "273ddd43a618e089",
   "outputs": [
    {
     "data": {
      "text/plain": [
       "<Figure size 640x480 with 1 Axes>"
      ],
      "image/png": "[encoded data removed]"
     },
     "metadata": {},
     "output_type": "display_data"
    }
   ],
   "execution_count": 32
  },
  {
   "metadata": {
    "ExecuteTime": {
     "end_time": "2024-11-09T16:00:36.882857Z",
     "start_time": "2024-11-09T16:00:36.880065Z"
    }
   },
   "cell_type": "code",
   "source": [
    "#function to plot multiple k vs LCS length plots for different books\n",
    "\n",
    "plot_colors = [\"#009292\", \"#FF6DB6\", \"#490092\", \"#006DDB\", \"#B66DFF\", \"#6DB6FF\", \"#B6DBFF\", \"#920000\", \"#924900\", \"#DB6D00\", \"#24FF24\", \"#FFFF6D\"]\n",
    "\n",
    "def plot_many_lcs_statistics(list_of_dicts):\n",
    "\n",
    "    fig, ax = plt.subplots(1, 1, figsize = (10,6))\n",
    "    \n",
    "    for i in range(len(list_of_dicts)):\n",
    "        ax.plot(ks_to_plot, list_of_dicts[i][\"stats\"][\"medians\"], linewidth = 2, color = plot_colors[i], label=list_of_dicts[i][\"book_name\"])\n",
    "        ax.fill_between(ks_to_plot, list_of_dicts[i][\"stats\"][\"top_quartiles\"], list_of_dicts[i][\"stats\"][\"bot_quartiles\"], color=plot_colors[i], alpha = 0.15)\n",
    "        \n",
    "    ax.set_ylim(0,350)\n",
    "    ax.set_xlabel('k')\n",
    "    ax.set_ylabel('LCS Length in Words')\n",
    "    ax.set_title('k vs Length of LCS')\n",
    "    ax.legend(loc = 'best')\n",
    "    plt.show()\n"
   ],
   "id": "77ee5321874c19a2",
   "outputs": [],
   "execution_count": 33
  },
  {
   "metadata": {
    "ExecuteTime": {
     "end_time": "2024-11-09T16:00:55.483902Z",
     "start_time": "2024-11-09T16:00:36.892207Z"
    }
   },
   "cell_type": "code",
   "source": [
    "#generate statistics for all books\n",
    "shakes_stats = gen_lcs_statistics(shakespeare)\n",
    "metamorphosis_stats = gen_lcs_statistics(metamorphosis)\n",
    "wonderland_stats = gen_lcs_statistics(wonderland)\n",
    "monte_cristo_stats = gen_lcs_statistics(montecristo)"
   ],
   "id": "ab228775bb1dbcf8",
   "outputs": [],
   "execution_count": 34
  },
  {
   "metadata": {
    "ExecuteTime": {
     "end_time": "2024-11-09T16:00:55.552973Z",
     "start_time": "2024-11-09T16:00:55.493537Z"
    }
   },
   "cell_type": "code",
   "source": [
    "#plot for all books used in lab\n",
    "plot_many_lcs_statistics(\n",
    "    [\n",
    "        {\n",
    "            \"book_name\": \"All of Shakespeare\",\n",
    "            \"stats\": shakes_stats\n",
    "        }, {\n",
    "            \"book_name\": \"Metamorphosis\",\n",
    "            \"stats\": metamorphosis_stats\n",
    "        }, {\n",
    "            \"book_name\": \"Alice in Wonderland\",\n",
    "            \"stats\": wonderland_stats\n",
    "        }, {\n",
    "            \"book_name\": \"Monte Cristo\",\n",
    "            \"stats\": monte_cristo_stats\n",
    "        }\n",
    "    ]\n",
    ")"
   ],
   "id": "a69635ac2f922405",
   "outputs": [
    {
     "data": {
      "text/plain": [
       "<Figure size 800x480 with 1 Axes>"
      ],
      "image/png": "[encoded data removed]"
     },
     "metadata": {},
     "output_type": "display_data"
    }
   ],
   "execution_count": 35
  },
  {
   "metadata": {},
   "cell_type": "markdown",
   "source": "Lastly, we are asked to come up with our own way of improving the LCS length of the model using a method we come up with or found via research (I found mine looking through documentation on impriving LCS length from *rdrr.io*. To improve the model's LCS length for a given k-gram length, I applied **temperature scaling** to adjust the probabilities of selecting the next word. By increasing the temperature value, I smoothed the probability distribution, making the model less likely to choose the most frequent word and more likely to explore other options. This approach aimed to reduce exact copying from the original text and create more diverse and original paragraphs while maintaining some coherence. I updated the `predict_next_word` function to incorporate temperature scaling and tested the effect on LCS lengths compared to the standard model.\n",
   "id": "5b6bb259ad9a49c4"
  },
  {
   "metadata": {
    "ExecuteTime": {
     "end_time": "2024-11-09T16:00:55.565799Z",
     "start_time": "2024-11-09T16:00:55.563172Z"
    }
   },
   "cell_type": "code",
   "source": [
    "# update predict next word function to include temperature scaling when assigning probabilities\n",
    "def predict_next_word_temp_scaled(this_kgram, freq_dict):\n",
    "    \n",
    "    temp = 1.4\n",
    "    \n",
    "    if this_kgram not in freq_dict:\n",
    "        return None\n",
    "    else:\n",
    "        total = 0\n",
    "        nextWordOptions = []\n",
    "        prob = []\n",
    "        #find probability of each possible next word  \n",
    "        for nextWord, count in freq_dict[this_kgram].items():\n",
    "            total += count\n",
    "        for nextWord,count in freq_dict[this_kgram].items():\n",
    "            nextWordOptions.append(nextWord)\n",
    "            prob.append(count/total)\n",
    "        \n",
    "        #recalc with temp\n",
    "        probTemp = np.exp(np.log(prob) / temp)\n",
    "        \n",
    "        #normalize probs\n",
    "        probTemp /= np.sum(probTemp)\n",
    "        \n",
    "        return random.choices(nextWordOptions, weights = probTemp, k = 1)[0]"
   ],
   "id": "7c36f8b83c3dea23",
   "outputs": [],
   "execution_count": 36
  },
  {
   "metadata": {
    "ExecuteTime": {
     "end_time": "2024-11-09T16:00:55.577834Z",
     "start_time": "2024-11-09T16:00:55.575816Z"
    }
   },
   "cell_type": "code",
   "source": [
    "# update gen paragraph function with new predict next word function\n",
    "def predict_paragraph_temp_scaled(start_kgram, k, freq_dict, gen_length=300):\n",
    "\n",
    "    gen_para = list(start_kgram)\n",
    "    currKgram = \" \".join(start_kgram)\n",
    "    for i in range(gen_length-k):\n",
    "        nextWord = predict_next_word_temp_scaled(currKgram, freq_dict)\n",
    "        \n",
    "        if nextWord is None:\n",
    "            break\n",
    "        gen_para.append(nextWord)\n",
    "        currKgram = \" \".join(gen_para[-k:])\n",
    "    \n",
    "    return gen_para"
   ],
   "id": "8618f89f91feab8a",
   "outputs": [],
   "execution_count": 37
  },
  {
   "metadata": {
    "ExecuteTime": {
     "end_time": "2024-11-09T16:00:56.996940Z",
     "start_time": "2024-11-09T16:00:55.587788Z"
    }
   },
   "cell_type": "code",
   "source": [
    "# test both methods on shakespeare. print two text examples with LCS length and then plot for 100 trials over all options for k\n",
    "\n",
    "k_test = 3\n",
    "\n",
    "freq_dict_test = make_freq_dict(k_test, shakespeare)\n",
    "\n",
    "# pick a random starting k-gram from the freq-dict.\n",
    "start_test = random.choice(list(freq_dict_test.keys())).split()\n",
    "\n",
    "# Generate a paragraph, and print it.\n",
    "gen_paragraph = predict_paragraph(start_test, k_test, freq_dict_test)\n",
    "\" \".join(gen_paragraph)\n",
    "\n",
    "gen_paragraph_temp_scaled = predict_paragraph_temp_scaled(start_test, k_test, freq_dict_test)\n",
    "\" \".join(gen_paragraph_temp_scaled)\n",
    "\n",
    "shakespeare_finder = LcsFinder(shakespeare)\n",
    "\n",
    "# Use the LcsFinder to find the LCS length in the generated paragraph\n",
    "print(f'LCS length original: {shakespeare_finder.lcs_length(gen_paragraph)} words')\n",
    "print(f'LCS length temp scaled: {shakespeare_finder.lcs_length(gen_paragraph_temp_scaled)} words')\n",
    "print()\n",
    "\n",
    "# Use the LcsFinder to highlight substrings in the generated text that appear in the original text.\n",
    "print('paragraph w/ no temp scaling:')\n",
    "shakespeare_finder.greedy_lcs_markdown(gen_paragraph)\n",
    "print('paragraph w/ temp scaling:')\n",
    "shakespeare_finder.greedy_lcs_markdown(gen_paragraph_temp_scaled)  "
   ],
   "id": "7dfb8b28584bd802",
   "outputs": [
    {
     "name": "stdout",
     "output_type": "stream",
     "text": [
      "LCS length original: 52 words\n",
      "LCS length temp scaled: 42 words\n",
      "\n",
      "paragraph w/ no temp scaling:\n"
     ]
    },
    {
     "data": {
      "text/plain": [
       "<IPython.core.display.Markdown object>"
      ],
      "text/markdown": "<font color=#009292>to me, practised upon the easy-yielding spirit of this woman, and made her</font> <font color=#FF6DB6>thrall To living death and pain perpetual, Which in her prescience she controlled still, But her foresight could not forestall their will. E’en in this thought</font> <font color=#490092>they find a kind of</font> <font color=#006DDB>colic pinch’d and vex’d By the imprisoning of unruly wind Within her womb, which for enlargement striving, Shakes the old beldam Earth, and topples down Steeples and moss-grown towers. At your birth Our grandam Earth, having this distemp’rature, In passion shook. GLENDOWER. Cousin, of many men I do not</font> <font color=#B66DFF>like to marry me</font> <font color=#920000>and make me Your fellow tribune. SICINIUS. You show too much of</font> <font color=#DB6D00>your own decay.— An honourable conduct let him have. Pembroke, look to ’t. Farewell, Chatillion. [_Exeunt Chatillion and Pembroke._] QUEEN ELEANOR. What now, my son! Have I not</font> <font color=#009292>made it. BELARIUS. Whither bound? IMOGEN. To Milford Haven. BELARIUS. What’s your name? IMOGEN. Fidele, sir.</font> <font color=#FF6DB6>CYMBELINE. Thou’rt my good youth, my page; I’ll be thy</font> <font color=#490092>second. [_Exeunt Sebastian and Antonio._] GONZALO. All three of them are desperate: their great guilt, Like poison given to work a great time after, Now ’gins to bite the spirits. I do beseech you That</font> <font color=#006DDB>for our crowned heads we have no</font> <font color=#B66DFF>great cause to give great thanks. SICINIUS. They are near the city? MESSENGER. Almost at point to</font> <font color=#920000>lose your liberties. Martius would have all</font> <font color=#DB6D00>as merry As, first, good company, good wine, good welcome Can make good people. Enter Lord Chamberlain, Lord Sandys and Sir Thomas Lovell.</font> <font color=#009292>What’s the matter? Enter Aeneas. AENEAS. Good morrow,</font> <font color=#FF6DB6>all. [_Exit with servant_.] PARIS. And tell me,</font> <font color=#490092>in the narrow seas</font> <font color=#006DDB>To give you over at this first encounter, Unless you will accompany me thither. GRUMIO. I pray you,</font> <font color=#B66DFF>what is he? SIR TOBY. He</font> <font color=#920000>shall think, by the</font> "
     },
     "metadata": {},
     "output_type": "display_data"
    },
    {
     "name": "stdout",
     "output_type": "stream",
     "text": [
      "paragraph w/ temp scaling:\n"
     ]
    },
    {
     "data": {
      "text/plain": [
       "<IPython.core.display.Markdown object>"
      ],
      "text/markdown": "<font color=#009292>to me, practised upon the easy-yielding spirit of this woman, and made her</font> <font color=#FF6DB6>thrall To living death and pain perpetual, Which in her prescience she controlled still, But her foresight could not forestall their will. E’en in this thought</font> <font color=#490092>they find a kind of</font> <font color=#006DDB>auditor, one that hath abundance of charge too, God knows what. They are up already, and call for eggs and butter. They will away presently. GADSHILL. Sirrah, if they meet not with Saint Nicholas’ clerks, I’ll give thee</font> <font color=#B66DFF>thy due, and one that knows</font> <font color=#920000>the law, go to; and a</font> <font color=#DB6D00>fellow False as thy title to her. Friendship, blood, And all the</font> <font color=#009292>shrouds wherewith my life should sail Are turned to one thread, one little hair. My heart hath</font> <font color=#FF6DB6>melted at a lady’s tears, Being an ordinary inundation; But this effusion of such manly drops, This shower, blown up by tempest of the soul, Startles mine eyes and makes me more amaz’d Than had I seen the</font> <font color=#490092>haughty Cardinal, More like a</font> <font color=#006DDB>king, and privileged to speak. CLIFFORD. My liege, the</font> <font color=#B66DFF>Duke of Exeter, the Earl of</font> <font color=#920000>Worcester Hath broken his staff, resigned his stewardship, And all the</font> <font color=#DB6D00>conduits of my blood</font> <font color=#009292>He’ll breed revengement and a scourge for me; But thou dost in thy passages of life Make me believe that thou art</font> <font color=#FF6DB6>poor. Hold, there is</font> <font color=#490092>the very top, The height, the crest, or crest unto the crest, Of murder’s arms. This is the</font> <font color=#006DDB>hag, when maids lie on their backs, That presses them, and learns them first to bear, Making them women of good carriage: This is she,— ROMEO. Peace, peace, Mercutio, peace, Thou talk’st of nothing. MERCUTIO. True, I talk of</font> <font color=#B66DFF>you. Why did you wish me milder? Would you have</font> <font color=#920000>me— If you have</font> <font color=#DB6D00>done me much ungentleness To show the</font> "
     },
     "metadata": {},
     "output_type": "display_data"
    }
   ],
   "execution_count": 38
  },
  {
   "metadata": {
    "ExecuteTime": {
     "end_time": "2024-11-09T16:01:00.359538Z",
     "start_time": "2024-11-09T16:00:57.280179Z"
    }
   },
   "cell_type": "code",
   "source": [
    "#testing using a large sample size of generated paragraphs to evaluate effectiveness of temperature scling here\n",
    "# get average difference across 100 tests - turns out this doesn't really work\n",
    "tests = 150\n",
    "\n",
    "shakespeare_finder = LcsFinder(shakespeare)\n",
    "tempTotalLCS = 0\n",
    "origTotalLCS = 0\n",
    "totalDiff = 0\n",
    "\n",
    "for i in range(tests):\n",
    "    start_test = random.choice(list(freq_dict_test.keys())).split()\n",
    "    gen_paragraph = predict_paragraph(start_test, k_test, freq_dict_test)\n",
    "    \" \".join(gen_paragraph)\n",
    "\n",
    "    gen_paragraph_temp_scaled = predict_paragraph_temp_scaled(start_test, k_test, freq_dict_test)\n",
    "    \" \".join(gen_paragraph_temp_scaled)\n",
    "    \n",
    "    origTotalLCS += shakespeare_finder.lcs_length(gen_paragraph)\n",
    "    tempTotalLCS += shakespeare_finder.lcs_length(gen_paragraph_temp_scaled)\n",
    "\n",
    "avgOrigLCS = origTotalLCS/tests\n",
    "avgTempLCS = tempTotalLCS/tests\n",
    "\n",
    "avgDiff = avgOrigLCS - avgTempLCS\n",
    "\n",
    "print(\"average LCS length Original: \" + str(avgOrigLCS))\n",
    "print(\"average LCS length TempScaled: \" + str(avgTempLCS))\n",
    "print(\"average difference: \" + str(avgDiff))"
   ],
   "id": "f46b4c604a795d56",
   "outputs": [
    {
     "name": "stdout",
     "output_type": "stream",
     "text": [
      "average LCS length Original: 48.94\n",
      "average LCS length TempScaled: 50.00666666666667\n",
      "average difference: -1.06666666666667\n"
     ]
    }
   ],
   "execution_count": 39
  },
  {
   "metadata": {},
   "cell_type": "markdown",
   "source": [
    "Ultimately, the temperature scaling approach did not work particularly well. This method likely didn't improve LCS length because, while it introduces more variability in word choice, it doesn't fundamentally change the structure of the generated text. The model still relies heavily on the k-gram frequencies from the original text, meaning that it can still copy long segments if they are common enough. Additionally, increasing temperature too much may disrupt grammatical coherence without sufficiently reducing copying, leading to incoherent but still plagiaristic text. Therefore, more sophisticated methods beyond temperature scaling are needed to balance originality and structure effectively.\n",
    " "
   ],
   "id": "9104925d36a35e7"
  }
 ],
 "metadata": {
  "kernelspec": {
   "display_name": "Python 3",
   "language": "python",
   "name": "python3"
  },
  "language_info": {
   "codemirror_mode": {
    "name": "ipython",
    "version": 2
   },
   "file_extension": ".py",
   "mimetype": "text/x-python",
   "name": "python",
   "nbconvert_exporter": "python",
   "pygments_lexer": "ipython2",
   "version": "2.7.6"
  }
 },
 "nbformat": 4,
 "nbformat_minor": 5
}
